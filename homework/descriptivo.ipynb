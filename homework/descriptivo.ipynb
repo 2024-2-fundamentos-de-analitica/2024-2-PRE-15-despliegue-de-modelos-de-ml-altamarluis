{
 "cells": [
  {
   "cell_type": "code",
   "execution_count": null,
   "metadata": {
    "vscode": {
     "languageId": "plaintext"
    }
   },
   "outputs": [],
   "source": [
    "\"\"\"API server example\"\"\"\n",
    "\n",
    "#\n",
    "# Usage from command line:\n",
    "# curl http://127.0.0.1:5000 -X POST -H \"Content-Type: application/json\" \\\n",
    "# -d '{\"bathrooms\": \"2\", \"bedrooms\": \"3\", \"sqft_living\": \"1800\", \\\n",
    "# \"sqft_lot\": \"2200\", \"floors\": \"1\", \"waterfront\": \"1\", \"condition\": \"3\"}'\n",
    "#\n",
    "\n",
    "#  Windows:\n",
    "#  curl http://127.0.0.1:5000 -X POST -H \"Content-Type: application/json\" -d \"{\\\"bathrooms\\\": \\\"2\\\", \\\"bedrooms\\\": \\\"3\\\", \\\"sqft_living\\\": \\\"1800\\\", \\\"sqft_lot\\\": \\\"2200\\\", \\\"floors\\\": \\\"1\\\", \\\"waterfront\\\": \\\"1\\\", \\\"condition\\\": \\\"3\\\"}\"\n",
    "\n",
    "import pickle\n",
    "\n",
    "import pandas as pd  # type: ignore\n",
    "from flask import Flask, request  # type: ignore\n",
    "\n",
    "app = Flask(__name__)\n",
    "app.config[\"SECRET_KEY\"] = \"you-will-never-guess\"\n",
    "\n",
    "\n",
    "FEATURES = [\n",
    "    \"bedrooms\",\n",
    "    \"bathrooms\",\n",
    "    \"sqft_living\",\n",
    "    \"sqft_lot\",\n",
    "    \"floors\",\n",
    "    \"waterfront\",\n",
    "    \"condition\",\n",
    "]\n",
    "\n",
    "\n",
    "@app.route(\"/\", methods=[\"POST\"])\n",
    "def index():\n",
    "    \"\"\"API function\"\"\"\n",
    "\n",
    "    args = request.json\n",
    "    filt_args = {key: [int(args[key])] for key in FEATURES}\n",
    "    df = pd.DataFrame.from_dict(filt_args)\n",
    "\n",
    "    with open(\"homework/house_predictor.pkl\", \"rb\") as file:\n",
    "        loaded_model = pickle.load(file)\n",
    "\n",
    "    prediction = loaded_model.predict(df)\n",
    "\n",
    "    return str(prediction[0][0])\n",
    "\n",
    "\n",
    "if __name__ == \"__main__\":\n",
    "    app.run(debug=True)"
   ]
  },
  {
   "cell_type": "code",
   "execution_count": null,
   "metadata": {
    "vscode": {
     "languageId": "plaintext"
    }
   },
   "outputs": [],
   "source": [
    "features.sqft_living.plot(kind=\"hist\", edgecolor=\"white\", bins=20)"
   ]
  },
  {
   "cell_type": "code",
   "execution_count": null,
   "metadata": {
    "vscode": {
     "languageId": "plaintext"
    }
   },
   "outputs": [],
   "source": [
    "features.sqft_lot.plot(kind=\"hist\", edgecolor=\"white\", bins=10)"
   ]
  },
  {
   "cell_type": "code",
   "execution_count": null,
   "metadata": {
    "vscode": {
     "languageId": "plaintext"
    }
   },
   "outputs": [],
   "source": [
    "features.floors.value_counts().sort_index().plot(kind=\"bar\")"
   ]
  },
  {
   "cell_type": "code",
   "execution_count": null,
   "metadata": {
    "vscode": {
     "languageId": "plaintext"
    }
   },
   "outputs": [],
   "source": [
    "features.waterfront.value_counts().sort_index().plot(kind=\"bar\")"
   ]
  },
  {
   "cell_type": "code",
   "execution_count": null,
   "metadata": {
    "vscode": {
     "languageId": "plaintext"
    }
   },
   "outputs": [],
   "source": [
    "features.condition.value_counts().sort_index().plot(kind=\"bar\")"
   ]
  },
  {
   "cell_type": "code",
   "execution_count": null,
   "metadata": {
    "vscode": {
     "languageId": "plaintext"
    }
   },
   "outputs": [],
   "source": [
    "target.plot(kind=\"hist\", edgecolor=\"white\", bins=10)"
   ]
  }
 ],
 "metadata": {
  "language_info": {
   "name": "python"
  }
 },
 "nbformat": 4,
 "nbformat_minor": 2
}
